{
 "cells": [
  {
   "cell_type": "code",
   "execution_count": 1,
   "id": "32e2bc8f-e717-40cd-8854-f7aeb0045842",
   "metadata": {},
   "outputs": [],
   "source": [
    "import os\n",
    "import numpy as np\n",
    "import cv2\n",
    "from tensorflow.keras.utils import to_categorical\n",
    "from sklearn.model_selection import train_test_split"
   ]
  },
  {
   "cell_type": "code",
   "execution_count": 2,
   "id": "1c2d798d-6dee-4345-9757-339bc4828a15",
   "metadata": {},
   "outputs": [
    {
     "name": "stdout",
     "output_type": "stream",
     "text": [
      "Loading label: 0 from folder: 0\n",
      "Loading label: 1 from folder: 1\n",
      "Loading label: 10 from folder: 10\n",
      "Loading label: 11 from folder: 11\n",
      "Loading label: 12 from folder: 12\n",
      "Loading label: 13 from folder: 13\n",
      "Loading label: 14 from folder: 14\n",
      "Loading label: 15 from folder: 15\n",
      "Loading label: 16 from folder: 16\n",
      "Loading label: 17 from folder: 17\n",
      "Loading label: 18 from folder: 18\n",
      "Loading label: 19 from folder: 19\n",
      "Loading label: 2 from folder: 2\n",
      "Loading label: 20 from folder: 20\n",
      "Loading label: 21 from folder: 21\n",
      "Loading label: 22 from folder: 22\n",
      "Loading label: 23 from folder: 23\n",
      "Loading label: 24 from folder: 24\n",
      "Loading label: 25 from folder: 25\n",
      "Loading label: 26 from folder: 26\n",
      "Loading label: 27 from folder: 27\n",
      "Loading label: 28 from folder: 28\n",
      "Loading label: 29 from folder: 29\n",
      "Loading label: 3 from folder: 3\n",
      "Loading label: 30 from folder: 30\n",
      "Loading label: 31 from folder: 31\n",
      "Loading label: 32 from folder: 32\n",
      "Loading label: 33 from folder: 33\n",
      "Loading label: 34 from folder: 34\n",
      "Loading label: 35 from folder: 35\n",
      "Loading label: 36 from folder: 36\n",
      "Loading label: 37 from folder: 37\n",
      "Loading label: 38 from folder: 38\n",
      "Loading label: 39 from folder: 39\n",
      "Loading label: 4 from folder: 4\n",
      "Loading label: 40 from folder: 40\n",
      "Loading label: 41 from folder: 41\n",
      "Loading label: 42 from folder: 42\n",
      "Loading label: 5 from folder: 5\n",
      "Loading label: 6 from folder: 6\n",
      "Loading label: 7 from folder: 7\n",
      "Loading label: 8 from folder: 8\n",
      "Loading label: 9 from folder: 9\n"
     ]
    }
   ],
   "source": [
    "# Function to load images and labels from the dataset\n",
    "def load_data(data_dir):\n",
    "    images = []\n",
    "    labels = []\n",
    "    for folder in os.listdir(data_dir):\n",
    "        folder_path = os.path.join(data_dir, folder)\n",
    "        if os.path.isdir(folder_path) and folder.isdigit():\n",
    "            label = int(folder)\n",
    "            print(f\"Loading label: {label} from folder: {folder}\")\n",
    "            for file in os.listdir(folder_path):\n",
    "                img_path = os.path.join(folder_path, file)\n",
    "                image = cv2.imread(img_path)\n",
    "                if image is not None:\n",
    "                    image = cv2.resize(image, (32, 32))\n",
    "                    images.append(image)\n",
    "                    labels.append(label)\n",
    "                else:\n",
    "                    print(f\"Warning: Unable to read image at path: {img_path}\")\n",
    "        else:\n",
    "            print(f\"Warning: Skipping non-digit folder or non-directory: {folder}\")\n",
    "    return np.array(images), np.array(labels)\n",
    "\n",
    "# Path to the dataset\n",
    "data_dir = 'F:/nf1/Traffic/Train'\n",
    "\n",
    "# Load data\n",
    "images, labels = load_data(data_dir)\n",
    "\n",
    "# Normalize images\n",
    "images = images / 255.0\n",
    "\n",
    "# One-hot encode labels\n",
    "num_classes = len(np.unique(labels))\n",
    "labels = to_categorical(labels, num_classes=num_classes)\n",
    "\n",
    "# Split data into training and testing sets\n",
    "x_train, x_test, y_train, y_test = train_test_split(images, labels, test_size=0.2, random_state=42)"
   ]
  },
  {
   "cell_type": "code",
   "execution_count": 3,
   "id": "a199cfa8-79b6-4f28-9710-7d3b3ee499f5",
   "metadata": {},
   "outputs": [
    {
     "name": "stdout",
     "output_type": "stream",
     "text": [
      "Epoch 1/10\n",
      "\u001b[1m981/981\u001b[0m \u001b[32m━━━━━━━━━━━━━━━━━━━━\u001b[0m\u001b[37m\u001b[0m \u001b[1m24s\u001b[0m 20ms/step - accuracy: 0.2609 - loss: 2.7275 - val_accuracy: 0.8914 - val_loss: 0.4284\n",
      "Epoch 2/10\n",
      "\u001b[1m981/981\u001b[0m \u001b[32m━━━━━━━━━━━━━━━━━━━━\u001b[0m\u001b[37m\u001b[0m \u001b[1m19s\u001b[0m 19ms/step - accuracy: 0.8267 - loss: 0.5438 - val_accuracy: 0.9609 - val_loss: 0.1405\n",
      "Epoch 3/10\n",
      "\u001b[1m981/981\u001b[0m \u001b[32m━━━━━━━━━━━━━━━━━━━━\u001b[0m\u001b[37m\u001b[0m \u001b[1m17s\u001b[0m 17ms/step - accuracy: 0.9200 - loss: 0.2607 - val_accuracy: 0.9824 - val_loss: 0.0730\n",
      "Epoch 4/10\n",
      "\u001b[1m981/981\u001b[0m \u001b[32m━━━━━━━━━━━━━━━━━━━━\u001b[0m\u001b[37m\u001b[0m \u001b[1m18s\u001b[0m 18ms/step - accuracy: 0.9488 - loss: 0.1654 - val_accuracy: 0.9870 - val_loss: 0.0562\n",
      "Epoch 5/10\n",
      "\u001b[1m981/981\u001b[0m \u001b[32m━━━━━━━━━━━━━━━━━━━━\u001b[0m\u001b[37m\u001b[0m \u001b[1m17s\u001b[0m 17ms/step - accuracy: 0.9639 - loss: 0.1160 - val_accuracy: 0.9865 - val_loss: 0.0488\n",
      "Epoch 6/10\n",
      "\u001b[1m981/981\u001b[0m \u001b[32m━━━━━━━━━━━━━━━━━━━━\u001b[0m\u001b[37m\u001b[0m \u001b[1m18s\u001b[0m 19ms/step - accuracy: 0.9694 - loss: 0.1004 - val_accuracy: 0.9904 - val_loss: 0.0326\n",
      "Epoch 7/10\n",
      "\u001b[1m981/981\u001b[0m \u001b[32m━━━━━━━━━━━━━━━━━━━━\u001b[0m\u001b[37m\u001b[0m \u001b[1m19s\u001b[0m 19ms/step - accuracy: 0.9725 - loss: 0.0862 - val_accuracy: 0.9909 - val_loss: 0.0320\n",
      "Epoch 8/10\n",
      "\u001b[1m981/981\u001b[0m \u001b[32m━━━━━━━━━━━━━━━━━━━━\u001b[0m\u001b[37m\u001b[0m \u001b[1m20s\u001b[0m 20ms/step - accuracy: 0.9779 - loss: 0.0712 - val_accuracy: 0.9936 - val_loss: 0.0254\n",
      "Epoch 9/10\n",
      "\u001b[1m981/981\u001b[0m \u001b[32m━━━━━━━━━━━━━━━━━━━━\u001b[0m\u001b[37m\u001b[0m \u001b[1m18s\u001b[0m 18ms/step - accuracy: 0.9848 - loss: 0.0494 - val_accuracy: 0.9907 - val_loss: 0.0374\n",
      "Epoch 10/10\n",
      "\u001b[1m981/981\u001b[0m \u001b[32m━━━━━━━━━━━━━━━━━━━━\u001b[0m\u001b[37m\u001b[0m \u001b[1m16s\u001b[0m 16ms/step - accuracy: 0.9817 - loss: 0.0572 - val_accuracy: 0.9934 - val_loss: 0.0241\n"
     ]
    },
    {
     "name": "stderr",
     "output_type": "stream",
     "text": [
      "WARNING:absl:You are saving your model as an HDF5 file via `model.save()` or `keras.saving.save_model(model)`. This file format is considered legacy. We recommend using instead the native Keras format, e.g. `model.save('my_model.keras')` or `keras.saving.save_model(model, 'my_model.keras')`. \n"
     ]
    }
   ],
   "source": [
    "from tensorflow.keras.models import Sequential\n",
    "from tensorflow.keras.layers import Conv2D, MaxPooling2D, Flatten, Dense, Dropout, Input\n",
    "\n",
    "# Define the CNN model\n",
    "model = Sequential([\n",
    "    Input(shape=(32, 32, 3)),\n",
    "    Conv2D(32, (3, 3), activation='relu'),\n",
    "    MaxPooling2D((2, 2)),\n",
    "    Conv2D(64, (3, 3), activation='relu'),\n",
    "    MaxPooling2D((2, 2)),\n",
    "    Conv2D(128, (3, 3), activation='relu'),\n",
    "    MaxPooling2D((2, 2)),\n",
    "    Flatten(),\n",
    "    Dense(128, activation='relu'),\n",
    "    Dropout(0.5),\n",
    "    Dense(num_classes, activation='softmax')\n",
    "])\n",
    "\n",
    "# Compile the model\n",
    "model.compile(optimizer='adam', loss='categorical_crossentropy', metrics=['accuracy'])\n",
    "\n",
    "# Train the model\n",
    "history = model.fit(x_train, y_train, epochs=10, validation_data=(x_test, y_test))\n",
    "\n",
    "# Save the model\n",
    "model.save('traffic_sign_model.h5')"
   ]
  },
  {
   "cell_type": "code",
   "execution_count": null,
   "id": "4ce7b20c-027a-4f03-b0cd-f1a9e8b4efb4",
   "metadata": {},
   "outputs": [],
   "source": []
  }
 ],
 "metadata": {
  "kernelspec": {
   "display_name": "Python 3 (ipykernel)",
   "language": "python",
   "name": "python3"
  },
  "language_info": {
   "codemirror_mode": {
    "name": "ipython",
    "version": 3
   },
   "file_extension": ".py",
   "mimetype": "text/x-python",
   "name": "python",
   "nbconvert_exporter": "python",
   "pygments_lexer": "ipython3",
   "version": "3.12.4"
  }
 },
 "nbformat": 4,
 "nbformat_minor": 5
}
